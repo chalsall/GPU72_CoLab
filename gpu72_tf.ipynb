{
  "nbformat": 4,
  "nbformat_minor": 0,
  "metadata": {
    "colab": {
      "name": "gpu72_tf",
      "version": "0.3.2",
      "provenance": [],
      "include_colab_link": true
    },
    "kernelspec": {
      "name": "python3",
      "display_name": "Python 3"
    },
    "accelerator": "GPU"
  },
  "cells": [
    {
      "cell_type": "markdown",
      "metadata": {
        "id": "view-in-github",
        "colab_type": "text"
      },
      "source": [
        "<a href=\"https://colab.research.google.com/github/chalsall/GPU72_CoLab/blob/master/gpu72_tf.ipynb\" target=\"_parent\"><img src=\"https://colab.research.google.com/assets/colab-badge.svg\" alt=\"Open In Colab\"/></a>"
      ]
    },
    {
      "cell_type": "code",
      "metadata": {
        "id": "PBwPMbK5iVqn",
        "colab_type": "code",
        "colab": {}
      },
      "source": [
        "#@title The Great Internet Mersenne Prime Search Trial Factoring Colabratory Notebook. { vertical-output: true, output-height: 10, form-width: \"50%\", display-mode: \"form\" }\n",
        "#@markdown Enter your Access Key below.  Leave blank to work anonymously.\n",
        "Access_Key = \"\" #@param {type:\"string\"}\n",
        "Logging_Level = \"Default\" #@param [\"Default\", \"Verbose\"]\n",
        "\n",
        "import os\n",
        "import subprocess\n",
        "\n",
        "!echo \"Beginning GPU Trial Factoring Environment Bootstrapping...\"\n",
        "!echo\n",
        "\n",
        "if not os.path.exists('/home/gpu72/'):\n",
        "  !mkdir /home/gpu72/\n",
        "os.chdir(\"/home/gpu72/\")\n",
        "\n",
        "!wget -qO bootstrap.tgz https://www.gpu72.com/colab/bootstrap.tgz\n",
        "!tar -xzvf bootstrap.tgz >/dev/null\n",
        "\n",
        "p = subprocess.Popen(['./bootstrap.pl', Access_Key, Logging_Level],\n",
        "                     stdout=subprocess.PIPE,\n",
        "                     universal_newlines=True,\n",
        "                     bufsize=0)\n",
        "\n",
        "try:\n",
        "  for line in p.stdout:\n",
        "    line=line[:-1]\n",
        "    print(line)\n",
        "except KeyboardInterrupt:\n",
        "  print(\"\\nExiting...\\n\")"
      ],
      "execution_count": 0,
      "outputs": []
    }
  ]
}