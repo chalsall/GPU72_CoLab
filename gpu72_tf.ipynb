{
  "nbformat": 4,
  "nbformat_minor": 0,
  "metadata": {
    "colab": {
      "name": "gpu72_tf",
      "version": "0.3.2",
      "provenance": [],
      "include_colab_link": true
    },
    "kernelspec": {
      "name": "python3",
      "display_name": "Python 3"
    },
    "accelerator": "GPU"
  },
  "cells": [
    {
      "cell_type": "markdown",
      "metadata": {
        "id": "view-in-github",
        "colab_type": "text"
      },
      "source": [
        "<a href=\"https://colab.research.google.com/github/chalsall/GPU72_CoLab/blob/master/gpu72_tf.ipynb\" target=\"_parent\"><img src=\"https://colab.research.google.com/assets/colab-badge.svg\" alt=\"Open In Colab\"/></a>"
      ]
    },
    {
      "cell_type": "code",
      "metadata": {
        "id": "PBwPMbK5iVqn",
        "colab_type": "code",
        "colab": {
          "base_uri": "https://localhost:8080/",
          "height": 366
        },
        "outputId": "d4d21ff8-184e-4b1e-e2ed-c84c1e0fcd99"
      },
      "source": [
        "#@title The Great Internet Mersenne Prime Search Trial Factoring Colabratory Notebook. { vertical-output: true, output-height: 10, form-width: \"50%\", display-mode: \"form\" }\n",
        "#@markdown Enter your Access Key below.  Leave blank to work anonymously.\n",
        "Access_Key = \"\" #@param {type:\"string\"}\n",
        "Logging_Level = \"Default\" #@param [\"Default\", \"Verbose\"]\n",
        "\n",
        "import os\n",
        "import subprocess\n",
        "\n",
        "!echo \"Beginning GPU Trial Factoring Environment Bootstrapping...\"\n",
        "!echo\n",
        "\n",
        "if not os.path.exists('/home/gpu72/'):\n",
        "  !mkdir /home/gpu72/\n",
        "os.chdir(\"/home/gpu72/\")\n",
        "\n",
        "!wget -qO bootstrap.tgz https://www.gpu72.com/colab/bootstrap.tgz\n",
        "!tar -xzvf bootstrap.tgz >/dev/null\n",
        "\n",
        "p = subprocess.Popen(['./bootstrap.pl', Access_Key, Logging_Level],\n",
        "                     stdout=subprocess.PIPE,\n",
        "                     universal_newlines=True,\n",
        "                     bufsize=0)\n",
        "\n",
        "try:\n",
        "  for line in p.stdout:\n",
        "    line=line[:-1]\n",
        "    print(line)\n",
        "except KeyboardInterrupt:\n",
        "  print(\"\\nExiting...\\n\")"
      ],
      "execution_count": 56,
      "outputs": [
        {
          "output_type": "stream",
          "text": [
            "Beginning GPU Trial Factoring Environment Bootstrapping...\n",
            "\n",
            "20190907_182435 INFO:  Boostrap starting...\n",
            "20190907_182435 INFO:  Working as \"\"...\n",
            "20190907_182435 INFO:  Fetching Work\n",
            "20190907_182436 INFO:  Running GPU type Tesla K80\n",
            "\n",
            "20190907_182436 INFO:  running a simple selftest...\n",
            "20190907_182451 INFO:  Selftest statistics\n",
            "20190907_182451 INFO:    number of tests           107\n",
            "20190907_182451 INFO:    successfull tests         107\n",
            "20190907_182451 INFO:  selftest PASSED!\n",
            "20190907_182451 INFO:  Starting trial factoring M34100771 from 2^71 to 2^72 (14.02 GHz-days)\n",
            "\n",
            "20190907_182451 INFO:  Exponent  TF Level  % Done    Class #,   Seq # |  GHzD/D | Itr Time |    ETA |    #FCs |      Rate |  SieveP | Uptime\n",
            "20190907_182451 INFO:  34100771  71 to 72   79.5%  3669/4620, 763/960 |  204.84 |   6.162s | 20m14s |   7.49G | 1216.1M/s |   82485 |   5:10\n",
            "\n",
            "Exiting...\n",
            "\n"
          ],
          "name": "stdout"
        }
      ]
    }
  ]
}